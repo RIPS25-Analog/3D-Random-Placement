{
 "cells": [
  {
   "cell_type": "markdown",
   "id": "9da80f8a",
   "metadata": {},
   "source": [
    "### Check Bounding Boxes All at Once"
   ]
  },
  {
   "cell_type": "code",
   "execution_count": null,
   "id": "0f0fcbb8",
   "metadata": {},
   "outputs": [],
   "source": [
    "from PIL import Image, ImageDraw\n",
    "import glob\n",
    "import os\n",
    "from IPython.display import display\n",
    "\n",
    "from defaults import *\n",
    "\n",
    "\n",
    "\n",
    "def show_bbox(image_path):\n",
    "    # convert image path to label path\n",
    "    label_path = image_path.replace('images', 'labels').replace('.jpg', '.txt')\n",
    "\n",
    "    # Open the image and create ImageDraw object for drawing\n",
    "    image = Image.open(image_path).convert(\"RGB\")\n",
    "    draw = ImageDraw.Draw(image)\n",
    "\n",
    "    with open(label_path, 'r') as f:\n",
    "        W, H = image.size\n",
    "\n",
    "        for line in f.readlines():\n",
    "            # Split the line into five values\n",
    "            label, x, y, w, h = line.split(' ')\n",
    "\n",
    "            # Convert string into float\n",
    "            x = float(x)\n",
    "            y = float(y)\n",
    "            w = float(w)\n",
    "            h = float(h)\n",
    "\n",
    "            # Convert center position, width, height into\n",
    "            # top-left and bottom-right coordinates\n",
    "            x1 = (x - w/2) * W\n",
    "            y1 = (y - h/2) * H\n",
    "            x2 = (x + w/2) * W\n",
    "            y2 = (y + h/2) * H\n",
    "\n",
    "            # Draw the bounding box with red lines\n",
    "            draw.rectangle((x1, y1, x2, y2),\n",
    "                           outline=(255, 0, 0), # Red in RGB\n",
    "                           width=4)             # Line width\n",
    "            \n",
    "            text_pos = (x1 + 2, y1 + 2)  # small offset inside the box\n",
    "            draw.text(text_pos, label, fill=(255, 0, 0))\n",
    "            \n",
    "    image.resize((int(W * 0.1), int(H * 0.1)))\n",
    "    print(image_path)\n",
    "    display(image)\n",
    "\n",
    "output_path = os.path.join(OUTPUT_PATH, \"attempt_1\", \"1_*\")\n",
    "\n",
    "img_files = glob.glob(os.path.join(output_path, \"images\", \"*.jpg\"))\n",
    "\n",
    "for img_file in img_files:\n",
    "    # Show the bounding box for each image\n",
    "    show_bbox(img_file)"
   ]
  }
 ],
 "metadata": {
  "kernelspec": {
   "display_name": "Python 3",
   "language": "python",
   "name": "python3"
  },
  "language_info": {
   "codemirror_mode": {
    "name": "ipython",
    "version": 3
   },
   "file_extension": ".py",
   "mimetype": "text/x-python",
   "name": "python",
   "nbconvert_exporter": "python",
   "pygments_lexer": "ipython3",
   "version": "3.11.1"
  }
 },
 "nbformat": 4,
 "nbformat_minor": 5
}
