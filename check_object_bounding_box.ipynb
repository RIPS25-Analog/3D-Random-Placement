{
 "cells": [
  {
   "cell_type": "code",
   "execution_count": null,
   "id": "1821ff0f",
   "metadata": {},
   "outputs": [
    {
     "name": "stdout",
     "output_type": "stream",
     "text": [
      "\"Hello from the shell\"\n"
     ]
    },
    {
     "name": "stdout",
     "output_type": "stream",
     "text": [
      "^C\n"
     ]
    },
    {
     "name": "stdout",
     "output_type": "stream",
     "text": [
      "Saved session recovery to \"C:\\Users\\xlmq4\\AppData\\Local\\Temp\\quit.blend\"\n",
      "\n",
      "Blender quit\n"
     ]
    }
   ],
   "source": [
    "blend_path = r\"C:\\Users\\xlmq4\\Documents\\GitHub\\3D-Data-Generation\\3d_data_generation.blend\"\n",
    "script_path = r\"C:\\Users\\xlmq4\\Documents\\GitHub\\3D-Data-Generation\\generate_data.py\"\n",
    "\n",
    "hdri_path = r\"C:\\Users\\xlmq4\\Documents\\GitHub\\3D-Data-Generation\\data\\background_hdri\"\n",
    "obj_path = r\"C:\\Users\\xlmq4\\Documents\\GitHub\\3D-Data-Generation\\data\\objects\"\n",
    "output_path = r\"C:\\Users\\xlmq4\\Documents\\GitHub\\3D-Data-Generation\\data\"\n",
    "\n",
    "'''\n",
    "Total picture = iteration * num_obj * num_pics\n",
    "'''\n",
    "\n",
    "! echo \"Hello from the shell\"\n",
    "\n",
    "cmd = f\"\"\"\n",
    "--background --python \"{script_path}\" \\\n",
    "-- \\\n",
    "--hdri_path {hdri_path} \\\n",
    "--obj_path {obj_path} \\\n",
    "--output_path {obj_path} \\\n",
    "--iterations 1 \\\n",
    "--num_obj 3 \\\n",
    "--num_pics 2 \\\n",
    "--num_distractor 6 \\\n",
    "--light_energy 50 \\\n",
    "--light_distance 10 \\\n",
    "--fill_ratio 0.2 \\\n",
    "--visible_percentage 0.2 \\\n",
    "--render_percentage 1 \\\n",
    "--light_on \\\n",
    "--save_files\n",
    "\"\"\"\n",
    "\n",
    "! blender {cmd}\n"
   ]
  },
  {
   "cell_type": "code",
   "execution_count": null,
   "id": "0f0fcbb8",
   "metadata": {},
   "outputs": [],
   "source": [
    "from PIL import Image, ImageDraw\n",
    "import glob\n",
    "from IPython.display import display\n",
    "\n",
    "def show_bbox(image_path):\n",
    "    # convert image path to label path\n",
    "    label_path = image_path.replace('images', 'labels').replace('.jpg', '.txt')\n",
    "\n",
    "    # Open the image and create ImageDraw object for drawing\n",
    "    image = Image.open(image_path).convert(\"RGB\")\n",
    "    draw = ImageDraw.Draw(image)\n",
    "\n",
    "    with open(label_path, 'r') as f:\n",
    "        W, H = image.size\n",
    "\n",
    "        for line in f.readlines():\n",
    "            # Split the line into five values\n",
    "            label, x, y, w, h = line.split(' ')\n",
    "\n",
    "            # Convert string into float\n",
    "            x = float(x)\n",
    "            y = float(y)\n",
    "            w = float(w)\n",
    "            h = float(h)\n",
    "\n",
    "            # Convert center position, width, height into\n",
    "            # top-left and bottom-right coordinates\n",
    "            x1 = (x - w/2) * W\n",
    "            y1 = (y - h/2) * H\n",
    "            x2 = (x + w/2) * W\n",
    "            y2 = (y + h/2) * H\n",
    "\n",
    "            # Draw the bounding box with red lines\n",
    "            draw.rectangle((x1, y1, x2, y2),\n",
    "                           outline=(255, 0, 0), # Red in RGB\n",
    "                           width=2)             # Line width\n",
    "            \n",
    "            text_pos = (x1 + 2, y1 + 2)  # small offset inside the box\n",
    "            draw.text(text_pos, label, fill=(255, 0, 0))\n",
    "            \n",
    "    #image.resize((int(W * 0.3), int(H * 0.3)))\n",
    "    print(image_path)\n",
    "    display(image)\n",
    "\n",
    "img_files = glob.glob(r\"C:\\Users\\xlmq4\\Documents\\GitHub\\3D-Data-Generation\\data\\test_3\\images\\*.jpg\")\n",
    "\n",
    "for img_file in img_files:\n",
    "    # Show the bounding box for each image\n",
    "    show_bbox(img_file)"
   ]
  }
 ],
 "metadata": {
  "kernelspec": {
   "display_name": "Python 3",
   "language": "python",
   "name": "python3"
  },
  "language_info": {
   "codemirror_mode": {
    "name": "ipython",
    "version": 3
   },
   "file_extension": ".py",
   "mimetype": "text/x-python",
   "name": "python",
   "nbconvert_exporter": "python",
   "pygments_lexer": "ipython3",
   "version": "3.11.1"
  }
 },
 "nbformat": 4,
 "nbformat_minor": 5
}
